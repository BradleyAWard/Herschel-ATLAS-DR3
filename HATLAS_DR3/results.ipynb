{
 "cells": [
  {
   "cell_type": "markdown",
   "metadata": {
    "collapsed": true,
    "pycharm": {
     "name": "#%% md\n"
    }
   },
   "source": [
    "## Herschel-ATLAS Data Release III - Results\n",
    "\n",
    "*** Description of the notebook ***"
   ]
  },
  {
   "cell_type": "markdown",
   "source": [
    "### Imports"
   ],
   "metadata": {
    "collapsed": false,
    "pycharm": {
     "name": "#%% md\n"
    }
   }
  },
  {
   "cell_type": "code",
   "execution_count": 1,
   "outputs": [],
   "source": [
    "import pystilts\n",
    "import utils\n",
    "import importlib\n",
    "import sys\n",
    "import numpy as np\n",
    "import matplotlib.pyplot as plt\n",
    "import pandas as pd\n",
    "from pandas import read_csv\n",
    "utils.rcparams()\n"
   ],
   "metadata": {
    "collapsed": false,
    "pycharm": {
     "name": "#%%\n"
    }
   }
  },
  {
   "cell_type": "markdown",
   "source": [
    "### Crossmatching"
   ],
   "metadata": {
    "collapsed": false,
    "pycharm": {
     "name": "#%% md\n"
    }
   }
  },
  {
   "cell_type": "code",
   "execution_count": 2,
   "outputs": [],
   "source": [
    "table1 = 'C:/Users/bradl/Desktop/Herschel_ATLAS_DR3/data'\n",
    "table2 = 'C:/Users/bradl/Desktop/Herschel_ATLAS_DR3/HELP_photoz'\n",
    "table3 = 'C:/Users/bradl/Desktop/test_match'"
   ],
   "metadata": {
    "collapsed": false,
    "pycharm": {
     "name": "#%%\n"
    }
   }
  },
  {
   "cell_type": "code",
   "execution_count": 3,
   "outputs": [
    {
     "name": "stdout",
     "output_type": "stream",
     "text": [
      "Error: No file, URL or command \"'C:/Users/bradl/Desktop/Herschel_ATLAS_DR3/data'\"\n",
      "\n"
     ]
    }
   ],
   "source": [
    "a = pystilts.tmatch2(in1=table1, in2=table2, out=table3, matcher='sky', values1='RA2000 DEC2000',\n",
    "                 values2='RA DEC', join='all1', error='15')"
   ],
   "metadata": {
    "collapsed": false,
    "pycharm": {
     "name": "#%%\n"
    }
   }
  },
  {
   "cell_type": "code",
   "execution_count": 4,
   "outputs": [
    {
     "name": "stderr",
     "output_type": "stream",
     "text": [
      "c:\\users\\bradl\\desktop\\venv\\lib\\site-packages\\IPython\\core\\interactiveshell.py:3444: DtypeWarning: Columns (38,53) have mixed types.Specify dtype option on import or set low_memory=False.\n",
      "  exec(code_obj, self.user_global_ns, self.user_ns)\n",
      "c:\\users\\bradl\\desktop\\venv\\lib\\site-packages\\IPython\\core\\interactiveshell.py:3444: DtypeWarning: Columns (48,53,56,57,67,82) have mixed types.Specify dtype option on import or set low_memory=False.\n",
      "  exec(code_obj, self.user_global_ns, self.user_ns)\n",
      "c:\\users\\bradl\\desktop\\venv\\lib\\site-packages\\IPython\\core\\interactiveshell.py:3444: DtypeWarning: Columns (67,81) have mixed types.Specify dtype option on import or set low_memory=False.\n",
      "  exec(code_obj, self.user_global_ns, self.user_ns)\n"
     ]
    }
   ],
   "source": [
    "# Input matched tables\n",
    "back_zHELP_path = 'C:/Users/bradl/Desktop/Herschel_ATLAS_DR3/back_zHELP'\n",
    "data_zHELP_path = 'C:/Users/bradl/Desktop/Herschel_ATLAS_DR3/data_zHELP'\n",
    "sources_zHELP_path = 'C:/Users/bradl/Desktop/Herschel_ATLAS_DR3/sources_zHELP'\n",
    "sources_zHELP_zHerschel_path = 'C:/Users/bradl/Desktop/Herschel_ATLAS_DR3/sources_zHELP_zHerschel'\n",
    "\n",
    "back_zHELP = read_csv(back_zHELP_path)\n",
    "data_zHELP = read_csv(data_zHELP_path)\n",
    "sources_zHELP = read_csv(sources_zHELP_path)\n",
    "sources_zHELP_zHerschel = read_csv(sources_zHELP_zHerschel_path)"
   ],
   "metadata": {
    "collapsed": false,
    "pycharm": {
     "name": "#%%\n"
    }
   }
  },
  {
   "cell_type": "markdown",
   "source": [
    "#### *** Assume the above is crossmatched ***"
   ],
   "metadata": {
    "collapsed": false,
    "pycharm": {
     "name": "#%% md\n"
    }
   }
  },
  {
   "cell_type": "code",
   "execution_count": 5,
   "outputs": [],
   "source": [
    "# We note that the null value for HELP datasets is -99, therefore we shall set all values of -99 to NaN. These are more easily dealt with\n",
    "# This should be possible to write into the data loader\n",
    "back_zHELP.replace(-99, np.nan, inplace = True)\n",
    "data_zHELP.replace(-99, np.nan, inplace = True)\n",
    "sources_zHELP.replace(-99, np.nan, inplace = True)\n",
    "sources_zHELP_zHerschel.replace(-99, np.nan, inplace = True)"
   ],
   "metadata": {
    "collapsed": false,
    "pycharm": {
     "name": "#%%\n"
    }
   }
  },
  {
   "cell_type": "markdown",
   "source": [
    "### Initial Statistics"
   ],
   "metadata": {
    "collapsed": false,
    "pycharm": {
     "name": "#%% md\n"
    }
   }
  },
  {
   "cell_type": "code",
   "execution_count": 6,
   "outputs": [
    {
     "name": "stdout",
     "output_type": "stream",
     "text": [
      "Number of counterparts with a HELP match = 542302\n",
      "Number of reliable sources with a HELP match = 75513\n"
     ]
    }
   ],
   "source": [
    "# We compute initial statistics about the cross-matched sources and counterparts\n",
    "\n",
    "# The number of matched counterparts\n",
    "counterparts_HELP = [z for z in data_zHELP['z1_median'] if z > 0]\n",
    "n_counterparts_HELP = len(counterparts_HELP)\n",
    "print(\"Number of counterparts with a HELP match = {:.0f}\".format(n_counterparts_HELP))\n",
    "\n",
    "\n",
    "# The number of reliably matched sources with a HELP redshift\n",
    "sources_reliable_HELP = [z for z,reliability in zip(sources_zHELP_zHerschel['z1_median'], sources_zHELP_zHerschel['Reliability']) if (z > 0) & (reliability >= 0.8)]\n",
    "n_sources_reliable_HELP = len(sources_reliable_HELP)\n",
    "print(\"Number of reliable sources with a HELP match = {:.0f}\".format(n_sources_reliable_HELP))"
   ],
   "metadata": {
    "collapsed": false,
    "pycharm": {
     "name": "#%%\n"
    }
   }
  },
  {
   "cell_type": "markdown",
   "source": [
    "### Redshifts\n",
    "\n",
    "We realise that not all sources will have matches in the HELP catalogue, therefore, we consider the redshift of the\n",
    " source to be that of HELP when available, otherwise we use the Herschel estimate."
   ],
   "metadata": {
    "collapsed": false,
    "pycharm": {
     "name": "#%% md\n"
    }
   }
  },
  {
   "cell_type": "code",
   "execution_count": 7,
   "outputs": [],
   "source": [
    "# Defining a column for the best redshift estimate, HELP or Herschel.\n",
    "\n",
    "best_z = []\n",
    "Herschel_z = []\n",
    "\n",
    "for i in range(len(sources_zHELP_zHerschel)):\n",
    "    if not np.isnan(sources_zHELP_zHerschel['z1_median'][i]):\n",
    "        best_z.append(sources_zHELP_zHerschel['z1_median'][i])\n",
    "    else:\n",
    "        best_z.append(sources_zHELP_zHerschel['Z_Herschel'][i])\n",
    "        Herschel_z.append(sources_zHELP_zHerschel['Z_Herschel'][i])\n",
    "    pass\n",
    "\n",
    "sources_zHELP_zHerschel['z_best'] = best_z"
   ],
   "metadata": {
    "collapsed": false,
    "pycharm": {
     "name": "#%%\n"
    }
   }
  },
  {
   "cell_type": "code",
   "execution_count": 8,
   "outputs": [
    {
     "data": {
      "text/plain": "<Figure size 360x252 with 1 Axes>",
      "image/png": "[encoded data removed]"
     },
     "metadata": {},
     "output_type": "display_data"
    }
   ],
   "source": [
    "# Redshift distributions\n",
    "survey_area = 303\n",
    "min_z, max_z, z_bins = 0, 4, 40\n",
    "\n",
    "# Determine the redshift distributions\n",
    "total_z_distribution, total_z_bins = utils.dn_dz_domega(sources_zHELP_zHerschel['z_best'], min_z, max_z, z_bins, survey_area)\n",
    "help_z_distribution, help_z_bins = utils.dn_dz_domega(sources_zHELP_zHerschel['z1_median'], min_z, max_z, z_bins, survey_area)\n",
    "herschel_z_distribution, herschel_z_bins = utils.dn_dz_domega(Herschel_z, min_z, max_z, z_bins, survey_area)\n",
    "\n",
    "# Plot of the different redshift distributions\n",
    "plt.figure(figsize = (5, 3.5))\n",
    "plt.step(total_z_bins, total_z_distribution, where = 'mid')\n",
    "plt.step(help_z_bins, help_z_distribution, where = 'mid')\n",
    "plt.step(herschel_z_bins, herschel_z_distribution, where = 'mid')\n",
    "plt.axvline(np.nanmedian(sources_zHELP_zHerschel['z_best']), color = 'k', linestyle = ':')\n",
    "plt.axvline(np.nanmedian(sources_zHELP_zHerschel['z1_median']), color = 'r', linestyle = ':', alpha = 0.5)\n",
    "plt.axvline(np.nanmedian(Herschel_z), color = 'b', linestyle = ':')\n",
    "plt.xlabel('z')\n",
    "plt.ylabel(r'd$^2$N/dz/d$\\Omega$ [dz$^{-1}$ sr$^{-1}$]')\n",
    "plt.semilogy()\n",
    "plt.xlim(0, 4)\n",
    "plt.ylim(1e3, 1e7)\n",
    "plt.yticks([1e3, 1e4, 1e5, 1e6, 1e7])\n",
    "plt.show()"
   ],
   "metadata": {
    "collapsed": false,
    "pycharm": {
     "name": "#%%\n"
    }
   }
  },
  {
   "cell_type": "code",
   "execution_count": 9,
   "outputs": [
    {
     "name": "stdout",
     "output_type": "stream",
     "text": [
      "Median redshift of HELP counterparts = 0.507\n",
      "Median redshift of Herschel counterparts = 1.397\n",
      "Median redshift of best redshifts = 0.647\n",
      "The number of sources with best redshift > 5 = 108\n"
     ]
    }
   ],
   "source": [
    "# Calculating the median redshifts of the distributions\n",
    "HELP_z_median = np.nanmedian(sources_zHELP_zHerschel['z1_median'])\n",
    "Herschel_z_median = np.nanmedian(Herschel_z)\n",
    "best_z_median = np.nanmedian(sources_zHELP_zHerschel['z_best'])\n",
    "\n",
    "print(\"Median redshift of HELP counterparts = {:.3f}\".format(HELP_z_median))\n",
    "print(\"Median redshift of Herschel counterparts = {:.3f}\".format(Herschel_z_median))\n",
    "print(\"Median redshift of best redshifts = {:.3f}\".format(best_z_median))\n",
    "\n",
    "# Number of redshift estimates above 5\n",
    "z_best_gt5 = [z for z in sources_zHELP_zHerschel['z_best'] if z > 5]\n",
    "n_z_best_gt5 = len(z_best_gt5)\n",
    "print(\"The number of sources with best redshift > 5 = {:.0f}\".format(n_z_best_gt5))"
   ],
   "metadata": {
    "collapsed": false,
    "pycharm": {
     "name": "#%%\n"
    }
   }
  },
  {
   "cell_type": "markdown",
   "source": [
    "#### Errors on Redshifts"
   ],
   "metadata": {
    "collapsed": false,
    "pycharm": {
     "name": "#%% md\n"
    }
   }
  },
  {
   "cell_type": "code",
   "execution_count": 10,
   "outputs": [
    {
     "name": "stdout",
     "output_type": "stream",
     "text": [
      "Mean redshift error of HELP counterparts = 0.216\n",
      "Mean redshift error of Herschel counterparts = 0.514\n"
     ]
    }
   ],
   "source": [
    "# Firstly we define a mean z value which corresponds to the average of the minimum and maximum z where the 80% CI lies\n",
    "back_zHELP['z1_mean'] = (back_zHELP['z1_min'] + back_zHELP['z1_max'])/2\n",
    "data_zHELP['z1_mean'] = (data_zHELP['z1_min'] + data_zHELP['z1_max'])/2\n",
    "sources_zHELP['z1_mean'] = (sources_zHELP['z1_min'] + sources_zHELP['z1_max'])/2\n",
    "sources_zHELP_zHerschel['z1_mean'] = (sources_zHELP_zHerschel['z1_min'] + sources_zHELP_zHerschel['z1_max'])/2\n",
    "\n",
    "# We then define the error on z as the 1 sigma error corresponding to an 80% CI where 80% ~ 1.282 sigma\n",
    "back_zHELP['z1_err'] = abs(back_zHELP['z1_mean'] - back_zHELP['z1_min'])/1.282\n",
    "data_zHELP['z1_err'] = abs(data_zHELP['z1_mean'] - data_zHELP['z1_min'])/1.282\n",
    "sources_zHELP['z1_err'] = abs(sources_zHELP['z1_mean'] - sources_zHELP['z1_min'])/1.282\n",
    "sources_zHELP_zHerschel['z1_err'] = abs(sources_zHELP_zHerschel['z1_mean'] - sources_zHELP_zHerschel['z1_min'])/1.282\n",
    "\n",
    "# Let us compare the mean error on Herschel and HELP redshifts\n",
    "HELP_z_mean_error = np.nanmean(sources_zHELP_zHerschel['z1_err'])\n",
    "Herschel_z_mean_error = np.nanmean(sources_zHELP_zHerschel['Z_ERROR'])\n",
    "print(\"Mean redshift error of HELP counterparts = {:.3f}\".format(HELP_z_mean_error))\n",
    "print(\"Mean redshift error of Herschel counterparts = {:.3f}\".format(Herschel_z_mean_error))"
   ],
   "metadata": {
    "collapsed": false,
    "pycharm": {
     "name": "#%%\n"
    }
   }
  },
  {
   "cell_type": "markdown",
   "source": [
    "### Gravitational Lensing"
   ],
   "metadata": {
    "collapsed": false,
    "pycharm": {
     "name": "#%% md\n"
    }
   }
  },
  {
   "cell_type": "markdown",
   "source": [
    "#### Lensing Probabilities\n",
    "\n",
    "We shall define a lensing probability based on the discrepancy between the HELP and Herschel redshift estimates\n",
    "according to the method outlined in Gonzalez-Nuevo et al., 2019. We shall implement just the redshift probability\n",
    "metric, $p_z$."
   ],
   "metadata": {
    "collapsed": false,
    "pycharm": {
     "name": "#%% md\n"
    }
   }
  },
  {
   "cell_type": "code",
   "execution_count": 11,
   "outputs": [
    {
     "name": "stderr",
     "output_type": "stream",
     "text": [
      "Calculating Lensing Probabilities: 100%|██████████| 193527/193527 [01:12<00:00, 2660.92it/s] "
     ]
    },
    {
     "name": "stdout",
     "output_type": "stream",
     "text": [
      "Minimum useful lensing probability = 0.578\n"
     ]
    },
    {
     "name": "stderr",
     "output_type": "stream",
     "text": [
      "\n"
     ]
    }
   ],
   "source": [
    "# Determine the lensing probabilities\n",
    "lens_probabilities = utils.lensing_probabilities(sources_zHELP_zHerschel, 'Z_Herschel', 'z1_median', 'Z_ERROR', 'z1_err')\n",
    "sources_zHELP_zHerschel['p_lens'] = lens_probabilities\n",
    "\n",
    "# Determining the largest lensing probability where z(lens) > z(source)\n",
    "lens_gt_source = [probability for probability,z_source,z_lens in zip(sources_zHELP_zHerschel['p_lens'], sources_zHELP_zHerschel['Z_Herschel'], sources_zHELP_zHerschel['z1_median']) if z_lens > z_source]\n",
    "print('Minimum useful lensing probability = {:.3f}'.format(max(lens_gt_source)))"
   ],
   "metadata": {
    "collapsed": false,
    "pycharm": {
     "name": "#%%\n"
    }
   }
  },
  {
   "cell_type": "markdown",
   "source": [
    "#### Optimal Lensing Threshold"
   ],
   "metadata": {
    "collapsed": false,
    "pycharm": {
     "name": "#%% md\n"
    }
   }
  },
  {
   "cell_type": "code",
   "execution_count": 12,
   "outputs": [
    {
     "name": "stderr",
     "output_type": "stream",
     "text": [
      "Calculating the False Positive rates: 100%|██████████| 1000/1000 [01:46<00:00,  9.38it/s]\n"
     ]
    },
    {
     "data": {
      "text/plain": "<Figure size 432x288 with 1 Axes>",
      "image/png": "[encoded data removed]"
     },
     "metadata": {},
     "output_type": "display_data"
    },
    {
     "name": "stdout",
     "output_type": "stream",
     "text": [
      "Minimum predicted false identification rate = 4.714\n",
      "Lensing probability with minimum false identifications = 0.95\n"
     ]
    }
   ],
   "source": [
    "# Calculating the false positive rate for an optimal lensing threshold\n",
    "p_range, false_positives, estimate_1, estimate_2, p_optimal = utils.optimal_lens_probability(sources_zHELP_zHerschel, 'Reliability', 'p_lens', 'Z_Herschel', false_id_percent=3.050, n=1000)\n",
    "\n",
    "# Plot of the false positive rate against lensing threshold\n",
    "plt.figure()\n",
    "plt.plot(p_range, false_positives, linestyle = '-', color = 'k')\n",
    "plt.plot(p_range, estimate_1, linestyle = '--', color = 'k', label = 'Estimate 1')\n",
    "plt.plot(p_range, estimate_2, linestyle = ':', color = 'k', label = 'Estimate 2')\n",
    "plt.xlabel(r'$p_{z}$')\n",
    "plt.ylabel(r'P(False Positive)')\n",
    "plt.xlim(0.8, 1)\n",
    "plt.ylim(0, 0.1)\n",
    "plt.legend()\n",
    "plt.show()\n",
    "\n",
    "print('Minimum predicted false identification rate = {:.3f}'.format(min(false_positives)*100))\n",
    "print('Lensing probability with minimum false identifications = {:.2f}'.format(p_optimal))"
   ],
   "metadata": {
    "collapsed": false,
    "pycharm": {
     "name": "#%%\n"
    }
   }
  },
  {
   "cell_type": "markdown",
   "source": [
    "#### > 100mJy Sample\n",
    "\n",
    "We take particular interest to those objects whose flux density at 500um is greater than 100 mJy. These objects are\n",
    "clear candidates for lensing (reaching ~90% of true lenses when contaminants such as radio sources and local galaxies\n",
    "are removed). We therefore isolate these objects."
   ],
   "metadata": {
    "collapsed": false,
    "pycharm": {
     "name": "#%% md\n"
    }
   }
  },
  {
   "cell_type": "markdown",
   "source": [
    "We know that this set will be contaminated with local galaxies and blazars. We previously searched this set to get a\n",
    "list of blazars and variable stars. We take a cut of S250/S350 < 1.5 to define objects far enough away to not be local\n",
    "galaxies and then remove our list of blazars and variable stars."
   ],
   "metadata": {
    "collapsed": false,
    "pycharm": {
     "name": "#%% md\n"
    }
   }
  },
  {
   "cell_type": "code",
   "execution_count": 13,
   "outputs": [
    {
     "data": {
      "text/plain": "<Figure size 432x288 with 1 Axes>",
      "image/png": "[encoded data removed]"
     },
     "metadata": {},
     "output_type": "display_data"
    },
    {
     "name": "stdout",
     "output_type": "stream",
     "text": [
      "The number of >100 mJy lensed candidates = 41\n"
     ]
    }
   ],
   "source": [
    "# Separate local galaxies, stars and blazars\n",
    "gt100mjy_sample = sources_zHELP_zHerschel[sources_zHELP_zHerschel['F500BEST'] > 0.1]\n",
    "lensed_candidates_gt100 = utils.clean_lensed_candidates(gt100mjy_sample, 'F250BEST', 'F350BEST', 'HATLAS_IAU_ID',\n",
    "                                var_stars = ['HATLASJ012658.0-323234', 'HATLASJ225519.6-293644'],\n",
    "                                blazars = ['HATLASJ014310.0-320056', 'HATLASJ014503.4-273333',\n",
    "                                           'HATLASJ222321.6-313701', 'HATLASJ224838.6-323551',\n",
    "                                           'HATLASJ235347.4-303746'])\n",
    "\n",
    "# Colour-colour plot for the S500 > 100 mJy sample\n",
    "plt.figure()\n",
    "#plt.scatter(local_galaxies['F250BEST']/local_galaxies['F350BEST'], local_galaxies['F350BEST']/local_galaxies['F500BEST'], s = 4)\n",
    "plt.scatter(lensed_candidates_gt100['F250BEST']/lensed_candidates_gt100['F350BEST'], lensed_candidates_gt100['F350BEST']/lensed_candidates_gt100['F500BEST'], s = 4)\n",
    "#plt.scatter(var_stars['F250BEST']/var_stars['F350BEST'], var_stars['F350BEST']/var_stars['F500BEST'], s = 4)\n",
    "#plt.scatter(blazars['F250BEST']/blazars['F350BEST'], blazars['F350BEST']/blazars['F500BEST'], s = 4)\n",
    "plt.xlabel('S250/S350')\n",
    "plt.ylabel('S350/S500')\n",
    "plt.show()\n",
    "\n",
    "# Print the number of lensed candidates >100 mJy\n",
    "print('The number of >100 mJy lensed candidates = {}'.format(len(lensed_candidates_gt100)))\n"
   ],
   "metadata": {
    "collapsed": false,
    "pycharm": {
     "name": "#%%\n"
    }
   }
  },
  {
   "cell_type": "code",
   "execution_count": 14,
   "outputs": [
    {
     "name": "stdout",
     "output_type": "stream",
     "text": [
      "The number of the >100mJy lens candidates with R > 0.8 = 26\n",
      "Mean lens probability of the >100 mJy lens candidates = 0.897\n"
     ]
    }
   ],
   "source": [
    "# Statistics on our high-z lensed candidates\n",
    "\n",
    "# Number of high-z lensed candidates with R > 0.8\n",
    "highz_lens_reliable = [reliability for reliability in lensed_candidates_gt100['Reliability'] if reliability >= 0.8]\n",
    "n_highz_lens_reliable= len(highz_lens_reliable)\n",
    "print(\"The number of the >100mJy lens candidates with R > 0.8 = {:.0f}\".format(n_highz_lens_reliable))\n",
    "\n",
    "# Determining the mean lens probability of high-z lensed candidates\n",
    "lensed_candidates_meanp = np.nanmean(lensed_candidates_gt100['p_lens'])\n",
    "print(\"Mean lens probability of the >100 mJy lens candidates = {:.3f}\".format(lensed_candidates_meanp))"
   ],
   "metadata": {
    "collapsed": false,
    "pycharm": {
     "name": "#%%\n"
    }
   }
  },
  {
   "cell_type": "markdown",
   "source": [
    "#### < 100mJy Sample"
   ],
   "metadata": {
    "collapsed": false,
    "pycharm": {
     "name": "#%% md\n"
    }
   }
  },
  {
   "cell_type": "code",
   "execution_count": 15,
   "outputs": [
    {
     "name": "stdout",
     "output_type": "stream",
     "text": [
      "The number of <100 mJy lensed candidates = 4515\n",
      "The total number of lensed candidates = 4556\n"
     ]
    }
   ],
   "source": [
    "# Generate the < 100 mJy lensed candidate sample\n",
    "lensed_candidates_lt100  = utils.lens_split(sources_zHELP_zHerschel, 'F500BEST', 'Reliability', 'p_lens', lens_probability_thresh = p_optimal)\n",
    "print('The number of <100 mJy lensed candidates = {}'.format(len(lensed_candidates_lt100)))\n",
    "\n",
    "# Combine both <100 mJy sample and >100 mJy sample\n",
    "lensed_candidates = pd.concat([lensed_candidates_lt100, lensed_candidates_gt100])\n",
    "print('The total number of lensed candidates = {}'.format(len(lensed_candidates)))"
   ],
   "metadata": {
    "collapsed": false,
    "pycharm": {
     "name": "#%%\n"
    }
   }
  },
  {
   "cell_type": "markdown",
   "source": [
    "### Lensed Candidates Science"
   ],
   "metadata": {
    "collapsed": false,
    "pycharm": {
     "name": "#%% md\n"
    }
   }
  },
  {
   "cell_type": "markdown",
   "source": [
    "#### Cumulative Number Counts"
   ],
   "metadata": {
    "collapsed": false,
    "pycharm": {
     "name": "#%% md\n"
    }
   }
  },
  {
   "cell_type": "code",
   "execution_count": 16,
   "outputs": [],
   "source": [
    "# Determine the DR3 cumulative counts\n",
    "flux_limit250 = 29.4\n",
    "flux_limit350 = 37.4\n",
    "flux_limit500 = 40.6\n",
    "s_range, dr3_cum500, dr3_cum500_low, dr3_cum500_high = utils.cumulative_counts(lensed_candidates, 'F500BEST', (flux_limit500, 500), 25, survey_area)\n",
    "\n",
    "# Importing cumulative lensed counts from models and literature\n",
    "cai_cum500 = utils.full_loader('/cai_model_mu12/NgtS_500micron_mumax12')\n",
    "negrello_cum500 = utils.full_loader('/counts/Negrello2017_cum')\n",
    "nayyeri_cum500 = utils.full_loader('/counts/Nayyeri2016_cum')\n",
    "\n",
    "# Collate Cai et al, 2013 counts\n",
    "cai_cum500['S'] = 10**cai_cum500['log(S)']\n",
    "cai_cum500['total'] = cai_cum500['Ngts_latetype'] + cai_cum500['Ngts_unlensed'] + cai_cum500['Ngts_lensed']\n",
    "\n",
    "# Collate Negrello et al, 2017 counts\n",
    "negrello_cum500['S'] = 10**negrello_cum500['log(S)']"
   ],
   "metadata": {
    "collapsed": false,
    "pycharm": {
     "name": "#%%\n"
    }
   }
  },
  {
   "cell_type": "code",
   "execution_count": 17,
   "outputs": [
    {
     "data": {
      "text/plain": "<Figure size 432x288 with 1 Axes>",
      "image/png": "[encoded data removed]"
     },
     "metadata": {},
     "output_type": "display_data"
    }
   ],
   "source": [
    "# Plot of cumulative lensed counts\n",
    "plt.figure()\n",
    "plt.errorbar(s_range, dr3_cum500, yerr = (dr3_cum500_low, dr3_cum500_high), marker = 'o', linestyle = '')\n",
    "plt.errorbar(negrello_cum500['S'], negrello_cum500['Ngts'], yerr = (negrello_cum500['Ngts_low'], negrello_cum500['Ngts_high']), marker = 'o', linestyle = '', label =  'Negrello+2017')\n",
    "plt.errorbar(nayyeri_cum500['S'], nayyeri_cum500['Ngts'], yerr = (nayyeri_cum500['Ngts_low'], nayyeri_cum500['Ngts_high']), marker = 'o', linestyle = '', label = 'Nayyeri+2016')\n",
    "plt.plot(cai_cum500['S'], cai_cum500['total'], color = 'k')\n",
    "plt.plot(cai_cum500['S'], cai_cum500['Ngts_lensed'], color = 'k', linestyle = '--')\n",
    "plt.loglog()\n",
    "plt.xlim(2e1, 1e3)\n",
    "plt.ylim(1e-4, 1e2)\n",
    "plt.xlabel(r'$S_{500}$ [mJy]')\n",
    "plt.ylabel(r'N($>$S) [deg$^{-2}$]')\n",
    "plt.legend(loc = 'lower left')\n",
    "plt.yticks([1e-4, 1e-3, 1e-2, 1e-1, 1e-0, 1e1, 1e2])\n",
    "plt.show()"
   ],
   "metadata": {
    "collapsed": false,
    "pycharm": {
     "name": "#%%\n"
    }
   }
  },
  {
   "cell_type": "markdown",
   "source": [
    "#### Lensed Redshift Distribution\n",
    "\n",
    "We could now return to the redshift distribution shown above and now add plots for the lensed counts as well. We shall\n",
    "also compare the total and lensed z-distributions with those of Cai et al., 2013."
   ],
   "metadata": {
    "collapsed": false,
    "pycharm": {
     "name": "#%% md\n"
    }
   }
  },
  {
   "cell_type": "code",
   "execution_count": 18,
   "outputs": [
    {
     "data": {
      "text/plain": "<Figure size 360x252 with 1 Axes>",
      "image/png": "[encoded data removed]"
     },
     "metadata": {},
     "output_type": "display_data"
    }
   ],
   "source": [
    "# Importing Cai et al, 2013 redshift models\n",
    "cai_z250_slim294 = utils.full_loader('/cai_model_mu12/dNdz_250micron_mumax12_Slim294mJy')\n",
    "cai_z250_slim294['dndz_total'] = (cai_z250_slim294['dndz_latetype'] + cai_z250_slim294['dndz_unlensed'] + cai_z250_slim294['dndz_lensed'])\n",
    "cai_z250_slim294['log_z'] = np.log10(cai_z250_slim294['z'])\n",
    "\n",
    "# Restricting our samples to the same flux limits\n",
    "lensed_candidates_slim294 = lensed_candidates[lensed_candidates['F250BEST'] > flux_limit250/1000]\n",
    "sources_zHELP_zHerschel_slim294 = sources_zHELP_zHerschel[sources_zHELP_zHerschel['F250BEST'] > flux_limit250/1000]\n",
    "\n",
    "# Determine the redshift distributions\n",
    "total_z_distribution_slim294, total_z_bins_slim294 = utils.dn_dz_domega(sources_zHELP_zHerschel_slim294['z_best'], min_z, max_z, z_bins, survey_area)\n",
    "lens_z_distribution_slim294, lens_z_bins_slim294 = utils.dn_dz_domega(lensed_candidates_slim294['z1_median'], min_z, max_z, z_bins, survey_area)\n",
    "source_z_distribution_slim294, source_z_bins_slim294 = utils.dn_dz_domega(lensed_candidates_slim294['Z_Herschel'], min_z, max_z, z_bins, survey_area)\n",
    "\n",
    "#Plot of the different redshift distributions\n",
    "plt.figure(figsize = (5, 3.5))\n",
    "plt.step(total_z_bins_slim294, total_z_distribution_slim294, where = 'mid', color = 'k')\n",
    "plt.step(source_z_bins_slim294, source_z_distribution_slim294, where = 'mid', color = 'r')\n",
    "plt.step(lens_z_bins_slim294, lens_z_distribution_slim294, where = 'mid', color = 'magenta')\n",
    "plt.plot(cai_z250_slim294['z'], cai_z250_slim294['dndz_total'], color = 'k', linestyle = '--')\n",
    "plt.plot(cai_z250_slim294['z'], cai_z250_slim294['dndz_lensed'], color = 'r', linestyle = '--')\n",
    "plt.text(2, 2e6, r'$S_{250} >$ 29.4 mJy')\n",
    "plt.xlabel('z')\n",
    "plt.ylabel(r'd$^2$N/dz/d$\\Omega$ [dz$^{-1}$ sr$^{-1}$]')\n",
    "plt.semilogy()\n",
    "plt.xlim(0, 4)\n",
    "plt.ylim(1e3, 1e7)\n",
    "plt.yticks([1e3, 1e4, 1e5, 1e6, 1e7])\n",
    "plt.show()"
   ],
   "metadata": {
    "collapsed": false,
    "pycharm": {
     "name": "#%%\n"
    }
   }
  },
  {
   "cell_type": "code",
   "execution_count": 19,
   "outputs": [
    {
     "name": "stdout",
     "output_type": "stream",
     "text": [
      "Median redshift of lensed sources = 2.057\n",
      "Median redshift of lenses = 0.282\n",
      "Median redshift of best redshifts = 0.647\n"
     ]
    }
   ],
   "source": [
    "# Calculating the median redshifts of the distributions\n",
    "lensed_source_zmedian = np.nanmedian(lensed_candidates['Z_Herschel'])\n",
    "lensed_lens_zmedian = np.nanmedian(lensed_candidates['z1_median'])\n",
    "best_zmedian = np.nanmedian(sources_zHELP_zHerschel['z_best'])\n",
    "\n",
    "print(\"Median redshift of lensed sources = {:.3f}\".format(lensed_source_zmedian))\n",
    "print(\"Median redshift of lenses = {:.3f}\".format(lensed_lens_zmedian))\n",
    "print(\"Median redshift of best redshifts = {:.3f}\".format(best_zmedian))"
   ],
   "metadata": {
    "collapsed": false,
    "pycharm": {
     "name": "#%%\n"
    }
   }
  },
  {
   "cell_type": "markdown",
   "source": [
    "#### Lensing Fraction\n",
    "\n",
    "We are also interested in determining the lensing fraction, the fraction of all sources that are lensed as a function\n",
    "of 500um flux density."
   ],
   "metadata": {
    "collapsed": false,
    "pycharm": {
     "name": "#%% md\n"
    }
   }
  },
  {
   "cell_type": "code",
   "execution_count": 22,
   "outputs": [
    {
     "data": {
      "text/plain": "<Figure size 360x252 with 1 Axes>",
      "image/png": "[encoded data removed]"
     },
     "metadata": {},
     "output_type": "display_data"
    },
    {
     "name": "stdout",
     "output_type": "stream",
     "text": [
      "The number of sources with p > 0.95 at less than 100 mJy = 4515\n"
     ]
    }
   ],
   "source": [
    "# Define the lensing fraction from Cai et al. 2013\n",
    "cai_lens_frac = (cai_cum500['Ngts_lensed'])/(cai_cum500['total'])\n",
    "\n",
    "# Calculating the lensing fraction\n",
    "s_range, dr3_lensing_fraction = utils.lensing_fraction(sources_zHELP_zHerschel, lensed_candidates, 'F500BEST', (10, 1000), 30, survey_area)\n",
    "\n",
    "# Plot the lensing fraction\n",
    "plt.figure(figsize = (5, 3.5))\n",
    "plt.plot(s_range, dr3_lensing_fraction, color = 'k')\n",
    "plt.plot(cai_cum500['S'], cai_lens_frac, linestyle = '--', color = 'k')\n",
    "plt.xlim(1e1, 1e3)\n",
    "plt.semilogx()\n",
    "plt.xlabel(r'$S_{500}$ [mJy]')\n",
    "plt.ylabel(r'Lensing Fraction')\n",
    "plt.show()\n",
    "\n",
    "# Calculate the number of sources (below 100 mJy) that have p > p_lens\n",
    "print(\"The number of sources with p > {:.2f} at less than 100 mJy = {:.0f}\".format(p_optimal, len(lensed_candidates_lt100)))"
   ],
   "metadata": {
    "collapsed": false,
    "pycharm": {
     "name": "#%%\n"
    }
   }
  },
  {
   "cell_type": "code",
   "execution_count": 21,
   "outputs": [],
   "source": [
    "# Reloads all modules\n",
    "_ = importlib.reload(sys.modules['utils'])\n",
    "import utils"
   ],
   "metadata": {
    "collapsed": false,
    "pycharm": {
     "name": "#%%\n"
    }
   }
  },
  {
   "cell_type": "code",
   "execution_count": 21,
   "outputs": [],
   "source": [],
   "metadata": {
    "collapsed": false,
    "pycharm": {
     "name": "#%%\n"
    }
   }
  }
 ],
 "metadata": {
  "kernelspec": {
   "display_name": "Python 3",
   "language": "python",
   "name": "python3"
  },
  "language_info": {
   "codemirror_mode": {
    "name": "ipython",
    "version": 2
   },
   "file_extension": ".py",
   "mimetype": "text/x-python",
   "name": "python",
   "nbconvert_exporter": "python",
   "pygments_lexer": "ipython2",
   "version": "2.7.6"
  }
 },
 "nbformat": 4,
 "nbformat_minor": 0
}